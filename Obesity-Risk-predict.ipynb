{
 "cells": [
  {
   "cell_type": "code",
   "execution_count": 1,
   "metadata": {},
   "outputs": [],
   "source": [
    "import pickle\n",
    "\n",
    "import pandas as pd\n",
    "\n",
    "import numpy as np\n",
    "\n",
    "import torch\n",
    "\n",
    "import torch.nn as nn\n",
    "import torch.optim as optim\n",
    "import torch.nn.functional as F\n",
    "from torch.utils.data import Dataset, DataLoader\n",
    "\n",
    "import skorch\n"
   ]
  },
  {
   "cell_type": "code",
   "execution_count": 2,
   "metadata": {},
   "outputs": [],
   "source": [
    "data = (\n",
    "    pd.read_csv(\"test.csv\", index_col=\"id\")\n",
    "    .rename(\n",
    "        columns={\n",
    "            \"FAVC\": \"Frequent consumption of high caloric food\",\n",
    "            \"FCVC\": \"Frequency of consumption of vegetables\",\n",
    "            \"NCP\": \"Number of main meals\",\n",
    "            \"CAEC\": \"Consumption of food between meals\",\n",
    "            \"CH2O\": \"Consumption of water daily\",\n",
    "            \"SCC\": \"Calories consumption monitoring\",\n",
    "            \"FAF\": \"Physical activity frequency\",\n",
    "            \"TUE\": \"Time using technology devices\",\n",
    "            \"CALC\": \"Consumption of alcohol\",\n",
    "            \"MTRANS\": \"Transportation used\",\n",
    "        }\n",
    "    )\n",
    "    .assign(\n",
    "        **{\n",
    "            \"Age\": lambda x: x.Age.round(),\n",
    "            \"Height\": lambda x: (x.Height * 100).round(),\n",
    "            \"Weight\": lambda x: x.Weight.round(),\n",
    "            \"Frequency of consumption of vegetables\": lambda x: x[\n",
    "                \"Frequency of consumption of vegetables\"\n",
    "            ]\n",
    "            .round()\n",
    "            .astype(\"int\"),\n",
    "            \"Number of main meals\": lambda x: x[\"Number of main meals\"]\n",
    "            .round()\n",
    "            .astype(\"int\"),\n",
    "            \"Consumption of water daily\": lambda x: 8\n",
    "            * x[\"Consumption of water daily\"].round().astype(\"int\"),\n",
    "            \"Physical activity frequency\": lambda x: x[\"Physical activity frequency\"]\n",
    "            .round()\n",
    "            .astype(\"int\"),\n",
    "            \"Time using technology devices\": lambda x: x[\n",
    "                \"Time using technology devices\"\n",
    "            ]\n",
    "            .round()\n",
    "            .astype(\"int\"),\n",
    "            \"BMI\": lambda x: x[\"Weight\"]\n",
    "            / x[\"Height\"]\n",
    "            / np.where(\n",
    "                x[\"Physical activity frequency\"] == 0,\n",
    "                1,\n",
    "                x[\"Physical activity frequency\"],\n",
    "            ),\n",
    "            \"Consumption of alcohol\": lambda x: np.where(\n",
    "                x[\"Consumption of alcohol\"] == \"Frequently\",\n",
    "                \"Sometimes\",\n",
    "                x[\"Consumption of alcohol\"],\n",
    "            ),\n",
    "        }\n",
    "    )\n",
    ")\n"
   ]
  },
  {
   "cell_type": "code",
   "execution_count": 3,
   "metadata": {},
   "outputs": [],
   "source": [
    "updated_data = pd.get_dummies(data.select_dtypes(\"object\"), drop_first=True).join(\n",
    "    data.select_dtypes(\"number\")\n",
    ")\n"
   ]
  },
  {
   "cell_type": "code",
   "execution_count": 4,
   "metadata": {},
   "outputs": [
    {
     "name": "stdout",
     "output_type": "stream",
     "text": [
      "<class 'pandas.core.frame.DataFrame'>\n",
      "Index: 13840 entries, 20758 to 34597\n",
      "Data columns (total 23 columns):\n",
      " #   Column                                         Non-Null Count  Dtype  \n",
      "---  ------                                         --------------  -----  \n",
      " 0   Gender_Male                                    13840 non-null  bool   \n",
      " 1   family_history_with_overweight_yes             13840 non-null  bool   \n",
      " 2   Frequent consumption of high caloric food_yes  13840 non-null  bool   \n",
      " 3   Consumption of food between meals_Frequently   13840 non-null  bool   \n",
      " 4   Consumption of food between meals_Sometimes    13840 non-null  bool   \n",
      " 5   Consumption of food between meals_no           13840 non-null  bool   \n",
      " 6   SMOKE_yes                                      13840 non-null  bool   \n",
      " 7   Calories consumption monitoring_yes            13840 non-null  bool   \n",
      " 8   Consumption of alcohol_Sometimes               13840 non-null  bool   \n",
      " 9   Consumption of alcohol_no                      13840 non-null  bool   \n",
      " 10  Transportation used_Bike                       13840 non-null  bool   \n",
      " 11  Transportation used_Motorbike                  13840 non-null  bool   \n",
      " 12  Transportation used_Public_Transportation      13840 non-null  bool   \n",
      " 13  Transportation used_Walking                    13840 non-null  bool   \n",
      " 14  Age                                            13840 non-null  float64\n",
      " 15  Height                                         13840 non-null  float64\n",
      " 16  Weight                                         13840 non-null  float64\n",
      " 17  Frequency of consumption of vegetables         13840 non-null  int32  \n",
      " 18  Number of main meals                           13840 non-null  int32  \n",
      " 19  Consumption of water daily                     13840 non-null  int32  \n",
      " 20  Physical activity frequency                    13840 non-null  int32  \n",
      " 21  Time using technology devices                  13840 non-null  int32  \n",
      " 22  BMI                                            13840 non-null  float64\n",
      "dtypes: bool(14), float64(4), int32(5)\n",
      "memory usage: 1.5 MB\n"
     ]
    }
   ],
   "source": [
    "updated_data.info()\n"
   ]
  },
  {
   "cell_type": "code",
   "execution_count": 5,
   "metadata": {},
   "outputs": [],
   "source": [
    "device = torch.cuda.current_device() if torch.cuda.is_available() else \"cpu\"\n"
   ]
  },
  {
   "cell_type": "code",
   "execution_count": 6,
   "metadata": {},
   "outputs": [],
   "source": [
    "class dataset(Dataset):\n",
    "    def __init__(self, X, y=None):\n",
    "        super().__init__()\n",
    "        self.X = torch.FloatTensor(X)\n",
    "        if y is not None:\n",
    "            self.y = torch.LongTensor(y.values)\n",
    "        else:\n",
    "            self.y = None\n",
    "\n",
    "    def __len__(self):\n",
    "        return len(self.X)\n",
    "\n",
    "    def __getitem__(self, idx):\n",
    "        if self.y is None:\n",
    "            return self.X[idx].to(device), torch.zeros(1).to(device)\n",
    "        else:\n",
    "            return self.X[idx].to(device), self.y[idx].to(device)\n"
   ]
  },
  {
   "cell_type": "code",
   "execution_count": 7,
   "metadata": {},
   "outputs": [],
   "source": [
    "# Fully Connected Neural Network\n",
    "\n",
    "\n",
    "class Classifier(nn.Module):\n",
    "    def __init__(self):\n",
    "        super().__init__()\n",
    "        self.fc1 = nn.Linear(23, 64)\n",
    "        self.fc2 = nn.Linear(64, 128)\n",
    "        self.fc3 = nn.Linear(128, 256)\n",
    "        self.fc4 = nn.Linear(256, 7)\n",
    "\n",
    "    def forward(self, x):\n",
    "        x = F.relu(F.dropout(self.fc1(x), 0.15))\n",
    "        x = F.relu(F.dropout(self.fc2(x), 0.15))\n",
    "        x = F.relu(F.dropout(self.fc3(x), 0.15))\n",
    "        return self.fc4(x)\n"
   ]
  },
  {
   "cell_type": "code",
   "execution_count": 8,
   "metadata": {},
   "outputs": [],
   "source": [
    "with open(\"model.pkl\", \"rb\") as f:\n",
    "    model = pickle.load(f)\n"
   ]
  },
  {
   "cell_type": "code",
   "execution_count": 9,
   "metadata": {},
   "outputs": [
    {
     "data": {
      "text/plain": [
       "array([4, 5, 3, ..., 2, 1, 4], dtype=int64)"
      ]
     },
     "execution_count": 9,
     "metadata": {},
     "output_type": "execute_result"
    }
   ],
   "source": [
    "model.predict(updated_data)\n"
   ]
  },
  {
   "cell_type": "code",
   "execution_count": 12,
   "metadata": {},
   "outputs": [],
   "source": [
    "predictions = pd.DataFrame(\n",
    "    [model.classes_[i] for i in model.predict(updated_data)], columns=[\"Class\"]\n",
    ")\n"
   ]
  },
  {
   "cell_type": "code",
   "execution_count": 14,
   "metadata": {},
   "outputs": [],
   "source": [
    "predictions.to_csv(\"submission.csv\", index=True)\n"
   ]
  }
 ],
 "metadata": {
  "kernelspec": {
   "display_name": "Python 3",
   "language": "python",
   "name": "python3"
  },
  "language_info": {
   "codemirror_mode": {
    "name": "ipython",
    "version": 3
   },
   "file_extension": ".py",
   "mimetype": "text/x-python",
   "name": "python",
   "nbconvert_exporter": "python",
   "pygments_lexer": "ipython3",
   "version": "3.11.3"
  }
 },
 "nbformat": 4,
 "nbformat_minor": 2
}
